{
 "cells": [
  {
   "cell_type": "markdown",
   "id": "554b2a5c-4b06-475a-8de6-0fee99b51ddc",
   "metadata": {},
   "source": [
    "# Set Up"
   ]
  },
  {
   "cell_type": "code",
   "execution_count": 1,
   "id": "30b58ed6-51b8-4185-9e13-51912292d735",
   "metadata": {
    "editable": true,
    "slideshow": {
     "slide_type": ""
    },
    "tags": []
   },
   "outputs": [
    {
     "ename": "SyntaxError",
     "evalue": "'(' was never closed (groundunit.py, line 116)",
     "output_type": "error",
     "traceback": [
      "Traceback \u001b[0;36m(most recent call last)\u001b[0m:\n",
      "\u001b[0m  File \u001b[1;32m/usr/local/Cellar/jupyterlab/4.3.3/libexec/lib/python3.13/site-packages/IPython/core/interactiveshell.py:3577\u001b[0m in \u001b[1;35mrun_code\u001b[0m\n    exec(code_obj, self.user_global_ns, self.user_ns)\u001b[0m\n",
      "\u001b[0m  Cell \u001b[1;32mIn[1], line 1\u001b[0m\n    from apxo import *\u001b[0m\n",
      "\u001b[0;36m  File \u001b[0;32m~/GitHub/apxo/apxo/__init__.py:8\u001b[0;36m\n\u001b[0;31m    import apxo.groundunit as apgroundunit\u001b[0;36m\n",
      "\u001b[0;36m  File \u001b[0;32m~/GitHub/apxo/apxo/groundunit.py:116\u001b[0;36m\u001b[0m\n\u001b[0;31m    self.logwhenwhat(\"\", \"altitude to target is %d.\" % (target.altitude() - self.altitude())\u001b[0m\n\u001b[0m                    ^\u001b[0m\n\u001b[0;31mSyntaxError\u001b[0m\u001b[0;31m:\u001b[0m '(' was never closed\n"
     ]
    }
   ],
   "source": [
    "from apxo import *"
   ]
  },
  {
   "cell_type": "code",
   "execution_count": null,
   "id": "6b454b73-06b2-4f40-99a9-b9b2d9753d30",
   "metadata": {},
   "outputs": [],
   "source": [
    "import apxo.log as aplog\n",
    "aplog.setwritefiles(False)\n",
    "import apxo.map as apmap\n",
    "apmap.setwritefiles(False)"
   ]
  },
  {
   "cell_type": "markdown",
   "id": "116c4be1-6c43-400a-9078-2b1a1d60ab92",
   "metadata": {},
   "source": [
    "# Tests"
   ]
  },
  {
   "cell_type": "code",
   "execution_count": null,
   "id": "d13ed5e8-de9f-4f34-86c0-3afda6fa1684",
   "metadata": {},
   "outputs": [],
   "source": [
    "if True:\n",
    "\n",
    "  import apxo.tests.a0\n",
    "  import apxo.tests.a1\n",
    "  import apxo.tests.a2\n",
    "  import apxo.tests.a3\n",
    "  import apxo.tests.a4\n",
    "  import apxo.tests.a5\n",
    "  import apxo.tests.c0\n",
    "  import apxo.tests.c1\n",
    "  import apxo.tests.c2\n",
    "  import apxo.tests.c3\n",
    "  import apxo.tests.d0\n",
    "  import apxo.tests.d1\n",
    "  import apxo.tests.d2\n",
    "  import apxo.tests.d3\n",
    "  import apxo.tests.d4\n",
    "  import apxo.tests.d5\n",
    "  import apxo.tests.e0\n",
    "  import apxo.tests.e1\n",
    "  import apxo.tests.e2\n",
    "  import apxo.tests.e3\n",
    "  import apxo.tests.e4\n",
    "  import apxo.tests.e5\n",
    "  import apxo.tests.e6\n",
    "  import apxo.tests.f0\n",
    "  import apxo.tests.f1\n",
    "  import apxo.tests.f2\n",
    "  import apxo.tests.g0\n",
    "  import apxo.tests.g1\n",
    "  import apxo.tests.g2\n",
    "  import apxo.tests.g3\n",
    "  import apxo.tests.g4\n",
    "  import apxo.tests.g5\n",
    "  import apxo.tests.g6\n",
    "  import apxo.tests.h0\n",
    "  import apxo.tests.i0\n",
    "  import apxo.tests.i1\n",
    "  import apxo.tests.j0\n",
    "  import apxo.tests.j1\n",
    "  import apxo.tests.j2\n",
    "  import apxo.tests.j3\n",
    "  #import apxo.tests.j4\n",
    "  import apxo.tests.j5\n",
    "  import apxo.tests.j6\n",
    "  import apxo.tests.k0\n",
    "  import apxo.tests.k1\n",
    "  import apxo.tests.l0\n",
    "  import apxo.tests.m0\n",
    "  import apxo.tests.n0\n",
    "  import apxo.tests.n1\n",
    "  import apxo.tests.n2\n",
    "  import apxo.tests.o0\n",
    "\n",
    "  print(\"finished running all tests.\")"
   ]
  },
  {
   "cell_type": "code",
   "execution_count": null,
   "id": "d3d55263-49e2-45d7-85c8-db5b3b5c3778",
   "metadata": {},
   "outputs": [],
   "source": [
    "aplog.setwritefiles(False)\n",
    "apmap.setwritefiles(True)"
   ]
  },
  {
   "cell_type": "code",
   "execution_count": null,
   "id": "eabb09c4-6012-4c8b-9913-c4f588b4258b",
   "metadata": {},
   "outputs": [],
   "source": [
    "startgamesetup(None, sheets=[[\"C1\"]], variants=[\"use version 2.4 rules\",\"use house rules\"], style=\"tropical\")\n",
    "\n",
    "S1 = marker(\"square\", \"C1-5211\")\n",
    "S2 = marker(\"circle\", \"C1-5112\")\n",
    "\n",
    "drawmap()"
   ]
  },
  {
   "cell_type": "code",
   "execution_count": null,
   "id": "aa69b43c-918e-44fb-9604-f0558bf02344",
   "metadata": {},
   "outputs": [],
   "source": [
    "groundunit(1, \"C1-2110\", \"infantry\")\n",
    "groundunit(\"A\", \"C1-2110\", \"infantry\")\n",
    "groundunit(\"A\", \"C1-2110\", \"infantry\")\n"
   ]
  },
  {
   "cell_type": "code",
   "execution_count": null,
   "id": "05ae26d7-7ab2-4850-b551-84143530fca8",
   "metadata": {},
   "outputs": [],
   "source": [
    "startgamesetup(None, sheets=[[\"C1\"]], variants=[\"use version 2.4 rules\",\"use house rules\"], style=\"tropical\")\n",
    "\n",
    "GB = groundunit(\"GB\", \"C1-6008\", symbols=\"infantry\", color=\"green\")\n",
    "VC1 = groundunit(\"VC1\", \"C1-5907\", symbols=\"infantry\", color=\"tan\", stack=\"1/2\", barragefirealtitude=2)\n",
    "VC2 = groundunit(\"VC2\", \"C1-5907\", symbols=\"infantry\", color=\"tan\", stack=\"2/2\", barragefirealtitude=2)\n",
    "VC3 = groundunit(\"VC3\", \"C1-6007\", symbols=\"infantry\", color=\"tan\", stack=\"1/2\", barragefirealtitude=2)\n",
    "VC4 = groundunit(\"VC4\", \"C1-6007\", symbols=\"infantry\", color=\"tan\", stack=\"2/2\", barragefirealtitude=2)\n",
    "ZP1 = groundunit(\"ZP1\", \"C1-5807\", symbols=\"airdefense/gun/light\", color=\"tan\")\n",
    "ZP2 = groundunit(\"ZP2\", \"C1-6012\", symbols=\"airdefense/gun/light\", color=\"tan\")\n",
    "ZU1 = groundunit(\"ZU1\", \"C1-6611\", symbols=\"airdefense/gun/light\", color=\"tan\")\n",
    "\n",
    "S1 = aircraft(\"S1\", \"USAF\", \"A-1H\", \"C1-5211\", \"E\"  , 5, 2.5, color=\"green\", stores={\n",
    "    1: \"BB/M64\",\n",
    "    3: \"BB/M64\",\n",
    "    5: \"BB/M64\",\n",
    "    6: \"RP/LAU-10\",\n",
    "    7: \"BB/BLU-1\",\n",
    "    8: \"BB/BLU-1\",\n",
    "    9: \"BB/BLU-1\",\n",
    "    10: \"RP/LAU-10\",\n",
    "    11: \"BB/M64\",\n",
    "    13: \"BB/M64\",\n",
    "    15: \"BB/M64\"\n",
    "})\n",
    "S2 = aircraft(\"S2\", \"USAF\", \"A-1H\", \"C1-5112\", \"E\"  , 5, 2.5, color=\"green\", stores={\n",
    "    1: \"BB/M64\",\n",
    "    3: \"BB/M64\",\n",
    "    5: \"BB/M64\",\n",
    "    6: \"RP/LAU-10\",\n",
    "    7: \"BB/BLU-1\",\n",
    "    8: \"BB/BLU-1\",\n",
    "    9: \"BB/BLU-1\",\n",
    "    10: \"RP/LAU-10\",\n",
    "    11: \"BB/M64\",\n",
    "    13: \"BB/M64\",\n",
    "    15: \"BB/M64\"\n",
    "})\n",
    "\n",
    "endgamesetup()\n",
    "\n",
    "startgameturn()\n",
    "\n",
    "\n",
    "B = marker(\"blastzone\", \"C1-6110\", altitude=2)\n",
    "\n",
    "VC1.usebarragefire(2)\n",
    "VC2.usebarragefire(2)\n",
    "VC3.usebarragefire(2)\n",
    "VC4.usebarragefire(2)\n",
    "\n",
    "VC1.takedamage(\"S\")\n",
    "VC2.takedamage(\"D\")\n",
    "\n",
    "drawmap()"
   ]
  },
  {
   "cell_type": "code",
   "execution_count": null,
   "id": "66b8f02e-a36e-4f92-8488-192e89ed2079",
   "metadata": {},
   "outputs": [],
   "source": []
  }
 ],
 "metadata": {
  "kernelspec": {
   "display_name": "Python 3 (ipykernel)",
   "language": "python",
   "name": "python3"
  },
  "language_info": {
   "codemirror_mode": {
    "name": "ipython",
    "version": 3
   },
   "file_extension": ".py",
   "mimetype": "text/x-python",
   "name": "python",
   "nbconvert_exporter": "python",
   "pygments_lexer": "ipython3",
   "version": "3.13.1"
  }
 },
 "nbformat": 4,
 "nbformat_minor": 5
}
