{
 "cells": [
  {
   "cell_type": "code",
   "execution_count": 1,
   "id": "30b58ed6-51b8-4185-9e13-51912292d735",
   "metadata": {
    "editable": true,
    "slideshow": {
     "slide_type": ""
    },
    "tags": []
   },
   "outputs": [],
   "source": [
    "from apxo import *"
   ]
  },
  {
   "cell_type": "code",
   "execution_count": 2,
   "id": "6b454b73-06b2-4f40-99a9-b9b2d9753d30",
   "metadata": {},
   "outputs": [],
   "source": [
    "import apxo.log as aplog\n",
    "aplog.setwritefiles(False)\n",
    "import apxo.map as apmap\n",
    "apmap.setwritefiles(False)"
   ]
  },
  {
   "cell_type": "code",
   "execution_count": 3,
   "id": "d13ed5e8-de9f-4f34-86c0-3afda6fa1684",
   "metadata": {},
   "outputs": [
    {
     "name": "stdout",
     "output_type": "stream",
     "text": [
      "running tests in file a0.py: aircraft data.\n",
      "running tests in file a1.py: aircraft creation.\n",
      "running tests in file a2.py: math.\n",
      "running tests in file a3.py: azimuths.\n",
      "running tests in file a4.py: distances.\n",
      "running tests in file a5.py: maps.\n",
      "running tests in file c0.py: speed.\n",
      "running tests in file c1.py: propeller power.\n",
      "running tests in file c2.py: flamed-out engines.\n",
      "running tests in file c3.py: speed brakes.\n",
      "running tests in file d0.py: turns.\n",
      "running tests in file d1.py: slatted wings.\n",
      "running tests in file d2.py: banking.\n",
      "running tests in file d3.py: LBR/HBR aircraft.\n",
      "running tests in file d4.py: gloc.\n",
      "running tests in file d5.py: variable-geometry aircraft.\n",
      "running tests in file e0.py: initial HFPs.\n",
      "running tests in file e1.py: climbs.\n",
      "running tests in file e2.py: dives.\n",
      "running tests in file e3.py: loss of thrust with altitude.\n",
      "running tests in file e4.py: HPR aircraft.\n",
      "running tests in file e5.py: collision with terrain.\n",
      "running tests in file e7.py: terrain-following flight.\n",
      "expected error: 'terrain-following flight limits the turn rate to BT.'\n",
      "actual   error: 'attempt to enter terrain-following flight while using the ET turn rate.'\n"
     ]
    },
    {
     "ename": "AssertionError",
     "evalue": "",
     "output_type": "error",
     "traceback": [
      "\u001b[0;31m---------------------------------------------------------------------------\u001b[0m",
      "\u001b[0;31mAssertionError\u001b[0m                            Traceback (most recent call last)",
      "Cell \u001b[0;32mIn[3], line 23\u001b[0m\n\u001b[1;32m     21\u001b[0m \u001b[38;5;28;01mimport\u001b[39;00m \u001b[38;5;21;01mapxo\u001b[39;00m\u001b[38;5;21;01m.\u001b[39;00m\u001b[38;5;21;01mtests\u001b[39;00m\u001b[38;5;21;01m.\u001b[39;00m\u001b[38;5;21;01me4\u001b[39;00m\n\u001b[1;32m     22\u001b[0m \u001b[38;5;28;01mimport\u001b[39;00m \u001b[38;5;21;01mapxo\u001b[39;00m\u001b[38;5;21;01m.\u001b[39;00m\u001b[38;5;21;01mtests\u001b[39;00m\u001b[38;5;21;01m.\u001b[39;00m\u001b[38;5;21;01me5\u001b[39;00m\n\u001b[0;32m---> 23\u001b[0m \u001b[38;5;28;01mimport\u001b[39;00m \u001b[38;5;21;01mapxo\u001b[39;00m\u001b[38;5;21;01m.\u001b[39;00m\u001b[38;5;21;01mtests\u001b[39;00m\u001b[38;5;21;01m.\u001b[39;00m\u001b[38;5;21;01me7\u001b[39;00m\n\u001b[1;32m     24\u001b[0m \u001b[38;5;28;01mimport\u001b[39;00m \u001b[38;5;21;01mapxo\u001b[39;00m\u001b[38;5;21;01m.\u001b[39;00m\u001b[38;5;21;01mtests\u001b[39;00m\u001b[38;5;21;01m.\u001b[39;00m\u001b[38;5;21;01me6\u001b[39;00m\n\u001b[1;32m     25\u001b[0m \u001b[38;5;28;01mimport\u001b[39;00m \u001b[38;5;21;01mapxo\u001b[39;00m\u001b[38;5;21;01m.\u001b[39;00m\u001b[38;5;21;01mtests\u001b[39;00m\u001b[38;5;21;01m.\u001b[39;00m\u001b[38;5;21;01mf0\u001b[39;00m\n",
      "File \u001b[0;32m~/GitHub/apxo/apxo/tests/e7.py:113\u001b[0m\n\u001b[1;32m    111\u001b[0m A1\u001b[38;5;241m.\u001b[39mmove(\u001b[38;5;124m\"\u001b[39m\u001b[38;5;124mLVL\u001b[39m\u001b[38;5;124m\"\u001b[39m, \u001b[38;5;124m\"\u001b[39m\u001b[38;5;124mM\u001b[39m\u001b[38;5;124m\"\u001b[39m, \u001b[38;5;124m\"\u001b[39m\u001b[38;5;124mETR/H\u001b[39m\u001b[38;5;124m\"\u001b[39m)\n\u001b[1;32m    112\u001b[0m A1\u001b[38;5;241m.\u001b[39menterterrainfollowingflight()\n\u001b[0;32m--> 113\u001b[0m \u001b[43masserterror\u001b[49m\u001b[43m(\u001b[49m\u001b[38;5;124;43m\"\u001b[39;49m\u001b[38;5;124;43mterrain-following flight limits the turn rate to BT.\u001b[39;49m\u001b[38;5;124;43m\"\u001b[39;49m\u001b[43m)\u001b[49m\n\u001b[1;32m    115\u001b[0m startgameturn()\n\u001b[1;32m    116\u001b[0m A1\u001b[38;5;241m.\u001b[39mmove(\u001b[38;5;124m\"\u001b[39m\u001b[38;5;124mLVL\u001b[39m\u001b[38;5;124m\"\u001b[39m, \u001b[38;5;124m\"\u001b[39m\u001b[38;5;124mM\u001b[39m\u001b[38;5;124m\"\u001b[39m)\n",
      "File \u001b[0;32m~/GitHub/apxo/apxo/tests/infrastructure.py:24\u001b[0m, in \u001b[0;36masserterror\u001b[0;34m(error)\u001b[0m\n\u001b[1;32m     22\u001b[0m \u001b[38;5;28mprint\u001b[39m(\u001b[38;5;124m\"\u001b[39m\u001b[38;5;124mexpected error: \u001b[39m\u001b[38;5;132;01m%r\u001b[39;00m\u001b[38;5;124m\"\u001b[39m \u001b[38;5;241m%\u001b[39m error)\n\u001b[1;32m     23\u001b[0m \u001b[38;5;28mprint\u001b[39m(\u001b[38;5;124m\"\u001b[39m\u001b[38;5;124mactual   error: \u001b[39m\u001b[38;5;132;01m%r\u001b[39;00m\u001b[38;5;124m\"\u001b[39m \u001b[38;5;241m%\u001b[39m aplog\u001b[38;5;241m.\u001b[39m_error)\n\u001b[0;32m---> 24\u001b[0m \u001b[38;5;28;01massert\u001b[39;00m aplog\u001b[38;5;241m.\u001b[39m_error \u001b[38;5;241m==\u001b[39m error\n",
      "\u001b[0;31mAssertionError\u001b[0m: "
     ]
    }
   ],
   "source": [
    "import apxo.tests.a0\n",
    "import apxo.tests.a1\n",
    "import apxo.tests.a2\n",
    "import apxo.tests.a3\n",
    "import apxo.tests.a4\n",
    "import apxo.tests.a5\n",
    "import apxo.tests.c0\n",
    "import apxo.tests.c1\n",
    "import apxo.tests.c2\n",
    "import apxo.tests.c3\n",
    "import apxo.tests.d0\n",
    "import apxo.tests.d1\n",
    "import apxo.tests.d2\n",
    "import apxo.tests.d3\n",
    "import apxo.tests.d4\n",
    "import apxo.tests.d5\n",
    "import apxo.tests.e0\n",
    "import apxo.tests.e1\n",
    "import apxo.tests.e2\n",
    "import apxo.tests.e3\n",
    "import apxo.tests.e4\n",
    "import apxo.tests.e5\n",
    "import apxo.tests.e7\n",
    "import apxo.tests.e6\n",
    "import apxo.tests.f0\n",
    "import apxo.tests.f1\n",
    "import apxo.tests.f2\n",
    "import apxo.tests.g0\n",
    "import apxo.tests.g1\n",
    "import apxo.tests.g2\n",
    "import apxo.tests.g3\n",
    "import apxo.tests.g4\n",
    "import apxo.tests.g5\n",
    "import apxo.tests.g6\n",
    "import apxo.tests.h0\n",
    "import apxo.tests.i0\n",
    "import apxo.tests.i1\n",
    "import apxo.tests.j0\n",
    "import apxo.tests.j1\n",
    "import apxo.tests.j2\n",
    "import apxo.tests.j3\n",
    "import apxo.tests.j4\n",
    "import apxo.tests.j5\n",
    "import apxo.tests.j6\n",
    "import apxo.tests.k0\n",
    "import apxo.tests.k1\n",
    "import apxo.tests.l0\n",
    "import apxo.tests.m0\n",
    "import apxo.tests.n0\n",
    "import apxo.tests.n1\n",
    "import apxo.tests.n2\n",
    "import apxo.tests.n3\n",
    "import apxo.tests.o0\n",
    "import apxo.tests.o1\n",
    "import apxo.tests.o2\n",
    "import apxo.tests.o3\n",
    "import apxo.tests.o4\n",
    "\n",
    "print(\"finished running all tests.\")"
   ]
  }
 ],
 "metadata": {
  "kernelspec": {
   "display_name": "Python 3 (ipykernel)",
   "language": "python",
   "name": "python3"
  },
  "language_info": {
   "codemirror_mode": {
    "name": "ipython",
    "version": 3
   },
   "file_extension": ".py",
   "mimetype": "text/x-python",
   "name": "python",
   "nbconvert_exporter": "python",
   "pygments_lexer": "ipython3",
   "version": "3.13.1"
  }
 },
 "nbformat": 4,
 "nbformat_minor": 5
}
