{
 "cells": [
  {
   "cell_type": "markdown",
   "id": "554b2a5c-4b06-475a-8de6-0fee99b51ddc",
   "metadata": {},
   "source": [
    "# Set Up"
   ]
  },
  {
   "cell_type": "code",
   "execution_count": 1,
   "id": "30b58ed6-51b8-4185-9e13-51912292d735",
   "metadata": {
    "editable": true,
    "slideshow": {
     "slide_type": ""
    },
    "tags": []
   },
   "outputs": [
    {
     "ename": "ModuleNotFoundError",
     "evalue": "No module named 'groundunit'",
     "output_type": "error",
     "traceback": [
      "\u001b[0;31m---------------------------------------------------------------------------\u001b[0m",
      "\u001b[0;31mModuleNotFoundError\u001b[0m                       Traceback (most recent call last)",
      "Cell \u001b[0;32mIn[1], line 1\u001b[0m\n\u001b[0;32m----> 1\u001b[0m \u001b[38;5;28;01mfrom\u001b[39;00m \u001b[38;5;21;01mapxo\u001b[39;00m \u001b[38;5;28;01mimport\u001b[39;00m \u001b[38;5;241m*\u001b[39m\n",
      "File \u001b[0;32m~/GitHub/apxo/apxo/__init__.py:8\u001b[0m\n\u001b[1;32m      6\u001b[0m \u001b[38;5;28;01mimport\u001b[39;00m \u001b[38;5;21;01mapxo\u001b[39;00m\u001b[38;5;21;01m.\u001b[39;00m\u001b[38;5;21;01melement\u001b[39;00m \u001b[38;5;28;01mas\u001b[39;00m \u001b[38;5;21;01mapelement\u001b[39;00m\n\u001b[1;32m      7\u001b[0m \u001b[38;5;28;01mimport\u001b[39;00m \u001b[38;5;21;01mapxo\u001b[39;00m\u001b[38;5;21;01m.\u001b[39;00m\u001b[38;5;21;01mgameturn\u001b[39;00m \u001b[38;5;28;01mas\u001b[39;00m \u001b[38;5;21;01mapgameturn\u001b[39;00m\n\u001b[0;32m----> 8\u001b[0m \u001b[38;5;28;01mimport\u001b[39;00m \u001b[38;5;21;01mapxo\u001b[39;00m\u001b[38;5;21;01m.\u001b[39;00m\u001b[38;5;21;01mgroundunit\u001b[39;00m \u001b[38;5;28;01mas\u001b[39;00m \u001b[38;5;21;01mapgroundunit\u001b[39;00m\n\u001b[1;32m      9\u001b[0m \u001b[38;5;28;01mimport\u001b[39;00m \u001b[38;5;21;01mapxo\u001b[39;00m\u001b[38;5;21;01m.\u001b[39;00m\u001b[38;5;21;01mlog\u001b[39;00m \u001b[38;5;28;01mas\u001b[39;00m \u001b[38;5;21;01maplog\u001b[39;00m\n\u001b[1;32m     10\u001b[0m \u001b[38;5;28;01mimport\u001b[39;00m \u001b[38;5;21;01mapxo\u001b[39;00m\u001b[38;5;21;01m.\u001b[39;00m\u001b[38;5;21;01mmap\u001b[39;00m \u001b[38;5;28;01mas\u001b[39;00m \u001b[38;5;21;01mapmap\u001b[39;00m\n",
      "File \u001b[0;32m~/GitHub/apxo/apxo/groundunit/__init__.py:22\u001b[0m\n\u001b[1;32m     16\u001b[0m     \u001b[38;5;28;01mreturn\u001b[39;00m \u001b[38;5;28mlist\u001b[39m(groundunitlist)\n\u001b[1;32m     19\u001b[0m \u001b[38;5;66;03m##############################################################################\u001b[39;00m\n\u001b[0;32m---> 22\u001b[0m \u001b[38;5;28;43;01mclass\u001b[39;49;00m\u001b[43m \u001b[49m\u001b[38;5;21;43;01mgroundunit\u001b[39;49;00m\u001b[43m(\u001b[49m\u001b[43mapelement\u001b[49m\u001b[38;5;241;43m.\u001b[39;49m\u001b[43melement\u001b[49m\u001b[43m)\u001b[49m\u001b[43m:\u001b[49m\n\u001b[1;32m     23\u001b[0m \n\u001b[1;32m     24\u001b[0m \u001b[43m    \u001b[49m\u001b[38;5;66;43;03m############################################################################\u001b[39;49;00m\n\u001b[1;32m     26\u001b[0m \u001b[43m    \u001b[49m\u001b[38;5;28;43;01mdef\u001b[39;49;00m\u001b[43m \u001b[49m\u001b[38;5;21;43m__init__\u001b[39;49m\u001b[43m(\u001b[49m\n\u001b[1;32m     27\u001b[0m \u001b[43m        \u001b[49m\u001b[38;5;28;43mself\u001b[39;49m\u001b[43m,\u001b[49m\n\u001b[1;32m     28\u001b[0m \u001b[43m        \u001b[49m\u001b[43mname\u001b[49m\u001b[43m,\u001b[49m\n\u001b[0;32m   (...)\u001b[0m\n\u001b[1;32m     33\u001b[0m \u001b[43m        \u001b[49m\u001b[43mstack\u001b[49m\u001b[38;5;241;43m=\u001b[39;49m\u001b[38;5;28;43;01mNone\u001b[39;49;00m\u001b[43m,\u001b[49m\n\u001b[1;32m     34\u001b[0m \u001b[43m    \u001b[49m\u001b[43m)\u001b[49m\u001b[43m:\u001b[49m\n\u001b[1;32m     36\u001b[0m \u001b[43m        \u001b[49m\u001b[38;5;28;43mself\u001b[39;49m\u001b[38;5;241;43m.\u001b[39;49m\u001b[43m_name\u001b[49m\u001b[43m \u001b[49m\u001b[38;5;241;43m=\u001b[39;49m\u001b[43m \u001b[49m\u001b[38;5;124;43m\"\u001b[39;49m\u001b[38;5;124;43m\"\u001b[39;49m\n",
      "File \u001b[0;32m~/GitHub/apxo/apxo/groundunit/__init__.py:212\u001b[0m, in \u001b[0;36mgroundunit\u001b[0;34m()\u001b[0m\n\u001b[1;32m    208\u001b[0m     \u001b[38;5;28;01mreturn\u001b[39;00m \u001b[38;5;28mself\u001b[39m\u001b[38;5;241m.\u001b[39maltitude() \u001b[38;5;241m+\u001b[39m \u001b[38;5;28mself\u001b[39m\u001b[38;5;241m.\u001b[39m_barragefirealtitude\n\u001b[1;32m    210\u001b[0m \u001b[38;5;66;03m############################################################################\u001b[39;00m\n\u001b[0;32m--> 212\u001b[0m \u001b[38;5;28;01mfrom\u001b[39;00m \u001b[38;5;21;01mgroundunit\u001b[39;00m\u001b[38;5;21;01m.\u001b[39;00m\u001b[38;5;21;01mattack\u001b[39;00m \u001b[38;5;28;01mimport\u001b[39;00m _attackaircraft\n",
      "\u001b[0;31mModuleNotFoundError\u001b[0m: No module named 'groundunit'"
     ]
    }
   ],
   "source": [
    "from apxo import *"
   ]
  },
  {
   "cell_type": "code",
   "execution_count": null,
   "id": "6b454b73-06b2-4f40-99a9-b9b2d9753d30",
   "metadata": {},
   "outputs": [],
   "source": [
    "import apxo.log as aplog\n",
    "aplog.setwritefiles(False)\n",
    "import apxo.map as apmap\n",
    "apmap.setwritefiles(False)"
   ]
  },
  {
   "cell_type": "markdown",
   "id": "116c4be1-6c43-400a-9078-2b1a1d60ab92",
   "metadata": {},
   "source": [
    "# Tests"
   ]
  },
  {
   "cell_type": "code",
   "execution_count": null,
   "id": "d13ed5e8-de9f-4f34-86c0-3afda6fa1684",
   "metadata": {},
   "outputs": [],
   "source": [
    "if True:\n",
    "\n",
    "  import apxo.tests.a0\n",
    "  import apxo.tests.a1\n",
    "  import apxo.tests.a2\n",
    "  import apxo.tests.a3\n",
    "  import apxo.tests.a4\n",
    "  import apxo.tests.a5\n",
    "  import apxo.tests.c0\n",
    "  import apxo.tests.c1\n",
    "  import apxo.tests.c2\n",
    "  import apxo.tests.c3\n",
    "  import apxo.tests.d0\n",
    "  import apxo.tests.d1\n",
    "  import apxo.tests.d2\n",
    "  import apxo.tests.d3\n",
    "  import apxo.tests.d4\n",
    "  import apxo.tests.d5\n",
    "  import apxo.tests.e0\n",
    "  import apxo.tests.e1\n",
    "  import apxo.tests.e2\n",
    "  import apxo.tests.e3\n",
    "  import apxo.tests.e4\n",
    "  import apxo.tests.e5\n",
    "  import apxo.tests.e6\n",
    "  import apxo.tests.f0\n",
    "  import apxo.tests.f1\n",
    "  import apxo.tests.f2\n",
    "  import apxo.tests.g0\n",
    "  import apxo.tests.g1\n",
    "  import apxo.tests.g2\n",
    "  import apxo.tests.g3\n",
    "  import apxo.tests.g4\n",
    "  import apxo.tests.g5\n",
    "  import apxo.tests.g6\n",
    "  import apxo.tests.h0\n",
    "  import apxo.tests.i0\n",
    "  import apxo.tests.i1\n",
    "  import apxo.tests.j0\n",
    "  import apxo.tests.j1\n",
    "  import apxo.tests.j2\n",
    "  import apxo.tests.j3\n",
    "  #import apxo.tests.j4\n",
    "  import apxo.tests.j5\n",
    "  import apxo.tests.j6\n",
    "  import apxo.tests.k0\n",
    "  import apxo.tests.k1\n",
    "  import apxo.tests.l0\n",
    "  import apxo.tests.m0\n",
    "  import apxo.tests.n0\n",
    "  import apxo.tests.n1\n",
    "  import apxo.tests.n2\n",
    "  import apxo.tests.o0\n",
    "\n",
    "  print(\"finished running all tests.\")"
   ]
  },
  {
   "cell_type": "code",
   "execution_count": null,
   "id": "d3d55263-49e2-45d7-85c8-db5b3b5c3778",
   "metadata": {},
   "outputs": [],
   "source": [
    "aplog.setwritefiles(False)\n",
    "apmap.setwritefiles(True)"
   ]
  },
  {
   "cell_type": "code",
   "execution_count": null,
   "id": "eabb09c4-6012-4c8b-9913-c4f588b4258b",
   "metadata": {},
   "outputs": [],
   "source": [
    "startgamesetup(None, sheets=[[\"C1\"]], variants=[\"use version 2.4 rules\",\"use house rules\"], style=\"tropical\")\n",
    "\n",
    "S1 = marker(\"square\", \"C1-5211\")\n",
    "S2 = marker(\"circle\", \"C1-5112\")\n",
    "\n",
    "drawmap()"
   ]
  },
  {
   "cell_type": "code",
   "execution_count": null,
   "id": "aa69b43c-918e-44fb-9604-f0558bf02344",
   "metadata": {},
   "outputs": [],
   "source": [
    "groundunit(1, \"C1-2110\", \"infantry\")\n",
    "groundunit(\"A\", \"C1-2110\", \"infantry\")\n",
    "groundunit(\"A\", \"C1-2110\", \"infantry\")\n"
   ]
  },
  {
   "cell_type": "code",
   "execution_count": null,
   "id": "05ae26d7-7ab2-4850-b551-84143530fca8",
   "metadata": {},
   "outputs": [],
   "source": [
    "startgamesetup(None, sheets=[[\"C1\"]], variants=[\"use version 2.4 rules\",\"use house rules\"], style=\"tropical\")\n",
    "\n",
    "GB = groundunit(\"GB\", \"C1-6008\", symbols=\"infantry\", color=\"green\")\n",
    "VC1 = groundunit(\"VC1\", \"C1-5907\", symbols=\"infantry\", color=\"tan\", stack=\"1/2\", barragefirealtitude=2)\n",
    "VC2 = groundunit(\"VC2\", \"C1-5907\", symbols=\"infantry\", color=\"tan\", stack=\"2/2\", barragefirealtitude=2)\n",
    "VC3 = groundunit(\"VC3\", \"C1-6007\", symbols=\"infantry\", color=\"tan\", stack=\"1/2\", barragefirealtitude=2)\n",
    "VC4 = groundunit(\"VC4\", \"C1-6007\", symbols=\"infantry\", color=\"tan\", stack=\"2/2\", barragefirealtitude=2)\n",
    "ZP1 = groundunit(\"ZP1\", \"C1-5807\", symbols=\"airdefense/gun/light\", color=\"tan\")\n",
    "ZP2 = groundunit(\"ZP2\", \"C1-6012\", symbols=\"airdefense/gun/light\", color=\"tan\")\n",
    "ZU1 = groundunit(\"ZU1\", \"C1-6611\", symbols=\"airdefense/gun/light\", color=\"tan\")\n",
    "\n",
    "S1 = aircraft(\"S1\", \"USAF\", \"A-1H\", \"C1-5211\", \"E\"  , 5, 2.5, color=\"green\", stores={\n",
    "    1: \"BB/M64\",\n",
    "    3: \"BB/M64\",\n",
    "    5: \"BB/M64\",\n",
    "    6: \"RP/LAU-10\",\n",
    "    7: \"BB/BLU-1\",\n",
    "    8: \"BB/BLU-1\",\n",
    "    9: \"BB/BLU-1\",\n",
    "    10: \"RP/LAU-10\",\n",
    "    11: \"BB/M64\",\n",
    "    13: \"BB/M64\",\n",
    "    15: \"BB/M64\"\n",
    "})\n",
    "S2 = aircraft(\"S2\", \"USAF\", \"A-1H\", \"C1-5112\", \"E\"  , 5, 2.5, color=\"green\", stores={\n",
    "    1: \"BB/M64\",\n",
    "    3: \"BB/M64\",\n",
    "    5: \"BB/M64\",\n",
    "    6: \"RP/LAU-10\",\n",
    "    7: \"BB/BLU-1\",\n",
    "    8: \"BB/BLU-1\",\n",
    "    9: \"BB/BLU-1\",\n",
    "    10: \"RP/LAU-10\",\n",
    "    11: \"BB/M64\",\n",
    "    13: \"BB/M64\",\n",
    "    15: \"BB/M64\"\n",
    "})\n",
    "\n",
    "endgamesetup()\n",
    "\n",
    "startgameturn()\n",
    "\n",
    "\n",
    "B = marker(\"blastzone\", \"C1-6110\", altitude=2)\n",
    "\n",
    "VC1.usebarragefire(2)\n",
    "VC2.usebarragefire(2)\n",
    "VC3.usebarragefire(2)\n",
    "VC4.usebarragefire(2)\n",
    "\n",
    "VC1.takedamage(\"S\")\n",
    "VC2.takedamage(\"D\")\n",
    "\n",
    "drawmap()"
   ]
  },
  {
   "cell_type": "code",
   "execution_count": null,
   "id": "66b8f02e-a36e-4f92-8488-192e89ed2079",
   "metadata": {},
   "outputs": [],
   "source": []
  }
 ],
 "metadata": {
  "kernelspec": {
   "display_name": "Python 3 (ipykernel)",
   "language": "python",
   "name": "python3"
  },
  "language_info": {
   "codemirror_mode": {
    "name": "ipython",
    "version": 3
   },
   "file_extension": ".py",
   "mimetype": "text/x-python",
   "name": "python",
   "nbconvert_exporter": "python",
   "pygments_lexer": "ipython3",
   "version": "3.13.1"
  }
 },
 "nbformat": 4,
 "nbformat_minor": 5
}
