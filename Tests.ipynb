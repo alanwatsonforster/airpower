{
 "cells": [
  {
   "cell_type": "code",
   "execution_count": 1,
   "id": "30b58ed6-51b8-4185-9e13-51912292d735",
   "metadata": {
    "editable": true,
    "slideshow": {
     "slide_type": ""
    },
    "tags": []
   },
   "outputs": [],
   "source": [
    "from apxo import *"
   ]
  },
  {
   "cell_type": "code",
   "execution_count": 2,
   "id": "6b454b73-06b2-4f40-99a9-b9b2d9753d30",
   "metadata": {},
   "outputs": [],
   "source": [
    "import apxo.log as aplog\n",
    "aplog.setwritefiles(False)\n",
    "import apxo.map as apmap\n",
    "apmap.setwritefiles(False)"
   ]
  },
  {
   "cell_type": "code",
   "execution_count": 3,
   "id": "d13ed5e8-de9f-4f34-86c0-3afda6fa1684",
   "metadata": {},
   "outputs": [
    {
     "name": "stdout",
     "output_type": "stream",
     "text": [
      "running tests in file a0.py: aircraft data.\n",
      "running tests in file a1.py: aircraft creation.\n",
      "running tests in file a2.py: math.\n",
      "running tests in file a3.py: azimuths.\n",
      "== assertion failed ===\n",
      "== unexpected error: 'the name argument must be unique.'\n"
     ]
    },
    {
     "ename": "AssertionError",
     "evalue": "",
     "output_type": "error",
     "traceback": [
      "\u001b[0;31m---------------------------------------------------------------------------\u001b[0m",
      "\u001b[0;31mAssertionError\u001b[0m                            Traceback (most recent call last)",
      "Cell \u001b[0;32mIn[3], line 4\u001b[0m\n\u001b[1;32m      2\u001b[0m \u001b[38;5;28;01mimport\u001b[39;00m \u001b[38;5;21;01mapxo\u001b[39;00m\u001b[38;5;21;01m.\u001b[39;00m\u001b[38;5;21;01mtests\u001b[39;00m\u001b[38;5;21;01m.\u001b[39;00m\u001b[38;5;21;01ma1\u001b[39;00m\n\u001b[1;32m      3\u001b[0m \u001b[38;5;28;01mimport\u001b[39;00m \u001b[38;5;21;01mapxo\u001b[39;00m\u001b[38;5;21;01m.\u001b[39;00m\u001b[38;5;21;01mtests\u001b[39;00m\u001b[38;5;21;01m.\u001b[39;00m\u001b[38;5;21;01ma2\u001b[39;00m\n\u001b[0;32m----> 4\u001b[0m \u001b[38;5;28;01mimport\u001b[39;00m \u001b[38;5;21;01mapxo\u001b[39;00m\u001b[38;5;21;01m.\u001b[39;00m\u001b[38;5;21;01mtests\u001b[39;00m\u001b[38;5;21;01m.\u001b[39;00m\u001b[38;5;21;01ma3\u001b[39;00m\n\u001b[1;32m      5\u001b[0m \u001b[38;5;28;01mimport\u001b[39;00m \u001b[38;5;21;01mapxo\u001b[39;00m\u001b[38;5;21;01m.\u001b[39;00m\u001b[38;5;21;01mtests\u001b[39;00m\u001b[38;5;21;01m.\u001b[39;00m\u001b[38;5;21;01ma4\u001b[39;00m\n\u001b[1;32m      6\u001b[0m \u001b[38;5;28;01mimport\u001b[39;00m \u001b[38;5;21;01mapxo\u001b[39;00m\u001b[38;5;21;01m.\u001b[39;00m\u001b[38;5;21;01mtests\u001b[39;00m\u001b[38;5;21;01m.\u001b[39;00m\u001b[38;5;21;01ma5\u001b[39;00m\n",
      "File \u001b[0;32m~/GitHub/apxo/apxo/tests/a3.py:16\u001b[0m\n\u001b[1;32m     13\u001b[0m A4 \u001b[38;5;241m=\u001b[39m aircraft(\u001b[38;5;124m\"\u001b[39m\u001b[38;5;124mA4\u001b[39m\u001b[38;5;124m\"\u001b[39m, \u001b[38;5;124m\"\u001b[39m\u001b[38;5;124mAF\u001b[39m\u001b[38;5;124m\"\u001b[39m, \u001b[38;5;124m\"\u001b[39m\u001b[38;5;124mF-80C\u001b[39m\u001b[38;5;124m\"\u001b[39m, \u001b[38;5;124m\"\u001b[39m\u001b[38;5;124mA1-1715\u001b[39m\u001b[38;5;124m\"\u001b[39m, \u001b[38;5;241m270\u001b[39m, \u001b[38;5;241m10\u001b[39m, \u001b[38;5;241m4.0\u001b[39m, \u001b[38;5;124m\"\u001b[39m\u001b[38;5;124mCL\u001b[39m\u001b[38;5;124m\"\u001b[39m)\n\u001b[1;32m     14\u001b[0m endtestsetup()\n\u001b[0;32m---> 16\u001b[0m \u001b[43mA1\u001b[49m\u001b[38;5;241;43m.\u001b[39;49m\u001b[43m_assert\u001b[49m\u001b[43m(\u001b[49m\u001b[38;5;124;43m\"\u001b[39;49m\u001b[38;5;124;43mA1-1115       N    10\u001b[39;49m\u001b[38;5;124;43m\"\u001b[39;49m\u001b[43m,\u001b[49m\u001b[43m \u001b[49m\u001b[38;5;241;43m4.0\u001b[39;49m\u001b[43m)\u001b[49m\n\u001b[1;32m     17\u001b[0m A2\u001b[38;5;241m.\u001b[39m_assert(\u001b[38;5;124m\"\u001b[39m\u001b[38;5;124mA1-1315       E    10\u001b[39m\u001b[38;5;124m\"\u001b[39m, \u001b[38;5;241m4.0\u001b[39m)\n\u001b[1;32m     18\u001b[0m A3\u001b[38;5;241m.\u001b[39m_assert(\u001b[38;5;124m\"\u001b[39m\u001b[38;5;124mA1-1515       S    10\u001b[39m\u001b[38;5;124m\"\u001b[39m, \u001b[38;5;241m4.0\u001b[39m)\n",
      "File \u001b[0;32m~/GitHub/apxo/apxo/element/__init__.py:533\u001b[0m, in \u001b[0;36melement._assert\u001b[0;34m(self, expectedposition, expectedspeed, expectedconfiguration)\u001b[0m\n\u001b[1;32m    531\u001b[0m     \u001b[38;5;28mprint\u001b[39m(\u001b[38;5;124m\"\u001b[39m\u001b[38;5;124m== assertion failed ===\u001b[39m\u001b[38;5;124m\"\u001b[39m)\n\u001b[1;32m    532\u001b[0m     \u001b[38;5;28mprint\u001b[39m(\u001b[38;5;124m\"\u001b[39m\u001b[38;5;124m== unexpected error: \u001b[39m\u001b[38;5;132;01m%r\u001b[39;00m\u001b[38;5;124m\"\u001b[39m \u001b[38;5;241m%\u001b[39m aplog\u001b[38;5;241m.\u001b[39m_error)\n\u001b[0;32m--> 533\u001b[0m     \u001b[38;5;28;01massert\u001b[39;00m aplog\u001b[38;5;241m.\u001b[39m_error \u001b[38;5;241m==\u001b[39m \u001b[38;5;28;01mNone\u001b[39;00m\n\u001b[1;32m    535\u001b[0m expectedposition \u001b[38;5;241m=\u001b[39m re\u001b[38;5;241m.\u001b[39msub(\u001b[38;5;124m\"\u001b[39m\u001b[38;5;124m +\u001b[39m\u001b[38;5;124m\"\u001b[39m, \u001b[38;5;124m\"\u001b[39m\u001b[38;5;124m \u001b[39m\u001b[38;5;124m\"\u001b[39m, expectedposition)\n\u001b[1;32m    536\u001b[0m actualposition \u001b[38;5;241m=\u001b[39m re\u001b[38;5;241m.\u001b[39msub(\u001b[38;5;124m\"\u001b[39m\u001b[38;5;124m +\u001b[39m\u001b[38;5;124m\"\u001b[39m, \u001b[38;5;124m\"\u001b[39m\u001b[38;5;124m \u001b[39m\u001b[38;5;124m\"\u001b[39m, \u001b[38;5;28mself\u001b[39m\u001b[38;5;241m.\u001b[39mposition())\n",
      "\u001b[0;31mAssertionError\u001b[0m: "
     ]
    }
   ],
   "source": [
    "import apxo.tests.a0\n",
    "import apxo.tests.a1\n",
    "import apxo.tests.a2\n",
    "import apxo.tests.a3\n",
    "import apxo.tests.a4\n",
    "import apxo.tests.a5\n",
    "import apxo.tests.c0\n",
    "import apxo.tests.c1\n",
    "import apxo.tests.c2\n",
    "import apxo.tests.c3\n",
    "import apxo.tests.d0\n",
    "import apxo.tests.d1\n",
    "import apxo.tests.d2\n",
    "import apxo.tests.d3\n",
    "import apxo.tests.d4\n",
    "import apxo.tests.d5\n",
    "import apxo.tests.e0\n",
    "import apxo.tests.e1\n",
    "import apxo.tests.e2\n",
    "import apxo.tests.e3\n",
    "import apxo.tests.e4\n",
    "import apxo.tests.e5\n",
    "import apxo.tests.e6\n",
    "import apxo.tests.f0\n",
    "import apxo.tests.f1\n",
    "import apxo.tests.f2\n",
    "import apxo.tests.g0\n",
    "import apxo.tests.g1\n",
    "import apxo.tests.g2\n",
    "import apxo.tests.g3\n",
    "import apxo.tests.g4\n",
    "import apxo.tests.g5\n",
    "import apxo.tests.g6\n",
    "import apxo.tests.h0\n",
    "import apxo.tests.i0\n",
    "import apxo.tests.i1\n",
    "import apxo.tests.j0\n",
    "import apxo.tests.j1\n",
    "import apxo.tests.j2\n",
    "import apxo.tests.j3\n",
    "import apxo.tests.j4\n",
    "import apxo.tests.j5\n",
    "import apxo.tests.j6\n",
    "import apxo.tests.k0\n",
    "import apxo.tests.k1\n",
    "import apxo.tests.l0\n",
    "import apxo.tests.m0\n",
    "import apxo.tests.n0\n",
    "import apxo.tests.n1\n",
    "import apxo.tests.n2\n",
    "import apxo.tests.n3\n",
    "import apxo.tests.o0\n",
    "import apxo.tests.o1\n",
    "import apxo.tests.o2\n",
    "import apxo.tests.o3\n",
    "\n",
    "print(\"finished running all tests.\")"
   ]
  }
 ],
 "metadata": {
  "kernelspec": {
   "display_name": "Python 3 (ipykernel)",
   "language": "python",
   "name": "python3"
  },
  "language_info": {
   "codemirror_mode": {
    "name": "ipython",
    "version": 3
   },
   "file_extension": ".py",
   "mimetype": "text/x-python",
   "name": "python",
   "nbconvert_exporter": "python",
   "pygments_lexer": "ipython3",
   "version": "3.13.1"
  }
 },
 "nbformat": 4,
 "nbformat_minor": 5
}
